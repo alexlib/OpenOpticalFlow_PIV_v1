{
 "cells": [
  {
   "cell_type": "markdown",
   "metadata": {},
   "source": [
    "# Example 01 - Simple usage of PIVsuite\n",
    "\n",
    "This example demonstrates the simplest possible use of PIVsuite for obtaining the velocity field from a pair of images. For running this example, you need Python with numpy, matplotlib, and the PIVsuite Python implementation."
   ]
  },
  {
   "cell_type": "code",
   "execution_count": 4,
   "metadata": {},
   "outputs": [],
   "source": [
    "import numpy as np\n",
    "import matplotlib.pyplot as plt\n",
    "from matplotlib.colors import Normalize\n",
    "import sys\n",
    "import os\n",
    "\n"
   ]
  },
  {
   "cell_type": "code",
   "execution_count": 5,
   "metadata": {},
   "outputs": [],
   "source": [
    "\n",
    "# Add the parent directory to the path so we can import the modules\n",
    "sys.path.append(os.path.dirname(os.path.dirname(os.path.abspath('.'))))\n"
   ]
  },
  {
   "cell_type": "code",
   "execution_count": 6,
   "metadata": {},
   "outputs": [],
   "source": [
    "\n",
    "from pivSuite.piv_parameters import PIVParameters\n",
    "from pivSuite.pivAnalyzeImagePair import piv_analyze_image_pair\n",
    "from pivSuite.pivQuiver import pivQuiver"
   ]
  },
  {
   "cell_type": "markdown",
   "metadata": {},
   "source": [
    "## Before running PIVsuite\n",
    "\n",
    "Initialize the parameters for PIV algorithm (such as interrogation area size) and prepare for storing results."
   ]
  },
  {
   "cell_type": "code",
   "execution_count": 7,
   "metadata": {},
   "outputs": [],
   "source": [
    "# Initialize variables\n",
    "piv_par = PIVParameters()  # variable for settings\n",
    "piv_data = {}              # variable for storing results"
   ]
  },
  {
   "cell_type": "markdown",
   "metadata": {},
   "source": [
    "Define image pair to be treated. The best way is to store image's paths and filenames:"
   ]
  },
  {
   "cell_type": "code",
   "execution_count": 8,
   "metadata": {},
   "outputs": [],
   "source": [
    "im1 = '../Data/Test von Karman/PIVlab_Karman_01.bmp'\n",
    "im2 = '../Data/Test von Karman/PIVlab_Karman_02.bmp'\n",
    "# NOTE: Use slash symbol (/) as path separator, both on Windows and Unix-based machines."
   ]
  },
  {
   "cell_type": "markdown",
   "metadata": {},
   "source": [
    "These images (kindly provided by William Thielicke) show a flow around a cylinder.\n",
    "\n",
    "The velocity field should not be evaluated inside the cylinder. For this reason a _mask_ is provided, and particle motion is not searched inside masked area. The mask is defined by an image file (black-and-white format) in this example. The masking image has pixel value of 0 for masked area (inside the cylinder), and 1 for unmasked area (flow region). Store the mask to piv_par variable."
   ]
  },
  {
   "cell_type": "code",
   "execution_count": 9,
   "metadata": {},
   "outputs": [],
   "source": [
    "im_mask = '../Data/Test von Karman/PIVlab_Karman_mask.png'  # Again, use slash (/) as path separator.\n",
    "piv_par.imMask1 = im_mask      # mask for first image\n",
    "piv_par.imMask2 = im_mask      # mask for the second image"
   ]
  },
  {
   "cell_type": "markdown",
   "metadata": {},
   "source": [
    "## Default settings for PIV algorithm\n",
    "\n",
    "PIVsuite has many settings. The default settings will work well in most cases. The PIVParameters class already initializes with default values, so we don't need to explicitly call a function for this."
   ]
  },
  {
   "cell_type": "markdown",
   "metadata": {},
   "source": [
    "## Run the analysis\n",
    "\n",
    "For PIV analysis of an image pair, execute the following command (treatment might take from seconds to a few minutes):"
   ]
  },
  {
   "cell_type": "code",
   "execution_count": 11,
   "metadata": {},
   "outputs": [
    {
     "ename": "FileNotFoundError",
     "evalue": "No such file: '/home/user/Documents/repos/OpenOpticalFlow_PIV_v1/src/Data/Test von Karman/PIVlab_Karman_01.bmp'",
     "output_type": "error",
     "traceback": [
      "\u001b[31m---------------------------------------------------------------------------\u001b[39m",
      "\u001b[31mFileNotFoundError\u001b[39m                         Traceback (most recent call last)",
      "\u001b[36mCell\u001b[39m\u001b[36m \u001b[39m\u001b[32mIn[11]\u001b[39m\u001b[32m, line 5\u001b[39m\n\u001b[32m      2\u001b[39m \u001b[38;5;28;01mimport\u001b[39;00m\u001b[38;5;250m \u001b[39m\u001b[34;01mimageio\u001b[39;00m\u001b[34;01m.\u001b[39;00m\u001b[34;01mv3\u001b[39;00m\u001b[38;5;250m \u001b[39m\u001b[38;5;28;01mas\u001b[39;00m\u001b[38;5;250m \u001b[39m\u001b[34;01mio\u001b[39;00m\n\u001b[32m      4\u001b[39m \u001b[38;5;66;03m# Load the images\u001b[39;00m\n\u001b[32m----> \u001b[39m\u001b[32m5\u001b[39m image1 = \u001b[43mio\u001b[49m\u001b[43m.\u001b[49m\u001b[43mimread\u001b[49m\u001b[43m(\u001b[49m\u001b[43mim1\u001b[49m\u001b[43m)\u001b[49m\n\u001b[32m      6\u001b[39m image2 = io.imread(im2)\n\u001b[32m      8\u001b[39m \u001b[38;5;66;03m# Run the PIV analysis\u001b[39;00m\n",
      "\u001b[36mFile \u001b[39m\u001b[32m~/Documents/repos/OpenOpticalFlow_PIV_v1/.conda/lib/python3.11/site-packages/imageio/v3.py:53\u001b[39m, in \u001b[36mimread\u001b[39m\u001b[34m(uri, index, plugin, extension, format_hint, **kwargs)\u001b[39m\n\u001b[32m     50\u001b[39m \u001b[38;5;28;01mif\u001b[39;00m index \u001b[38;5;129;01mis\u001b[39;00m \u001b[38;5;129;01mnot\u001b[39;00m \u001b[38;5;28;01mNone\u001b[39;00m:\n\u001b[32m     51\u001b[39m     call_kwargs[\u001b[33m\"\u001b[39m\u001b[33mindex\u001b[39m\u001b[33m\"\u001b[39m] = index\n\u001b[32m---> \u001b[39m\u001b[32m53\u001b[39m \u001b[38;5;28;01mwith\u001b[39;00m \u001b[43mimopen\u001b[49m\u001b[43m(\u001b[49m\u001b[43muri\u001b[49m\u001b[43m,\u001b[49m\u001b[43m \u001b[49m\u001b[33;43m\"\u001b[39;49m\u001b[33;43mr\u001b[39;49m\u001b[33;43m\"\u001b[39;49m\u001b[43m,\u001b[49m\u001b[43m \u001b[49m\u001b[43m*\u001b[49m\u001b[43m*\u001b[49m\u001b[43mplugin_kwargs\u001b[49m\u001b[43m)\u001b[49m \u001b[38;5;28;01mas\u001b[39;00m img_file:\n\u001b[32m     54\u001b[39m     \u001b[38;5;28;01mreturn\u001b[39;00m np.asarray(img_file.read(**call_kwargs))\n",
      "\u001b[36mFile \u001b[39m\u001b[32m~/Documents/repos/OpenOpticalFlow_PIV_v1/.conda/lib/python3.11/site-packages/imageio/core/imopen.py:113\u001b[39m, in \u001b[36mimopen\u001b[39m\u001b[34m(uri, io_mode, plugin, extension, format_hint, legacy_mode, **kwargs)\u001b[39m\n\u001b[32m    111\u001b[39m     request.format_hint = format_hint\n\u001b[32m    112\u001b[39m \u001b[38;5;28;01melse\u001b[39;00m:\n\u001b[32m--> \u001b[39m\u001b[32m113\u001b[39m     request = \u001b[43mRequest\u001b[49m\u001b[43m(\u001b[49m\u001b[43muri\u001b[49m\u001b[43m,\u001b[49m\u001b[43m \u001b[49m\u001b[43mio_mode\u001b[49m\u001b[43m,\u001b[49m\u001b[43m \u001b[49m\u001b[43mformat_hint\u001b[49m\u001b[43m=\u001b[49m\u001b[43mformat_hint\u001b[49m\u001b[43m,\u001b[49m\u001b[43m \u001b[49m\u001b[43mextension\u001b[49m\u001b[43m=\u001b[49m\u001b[43mextension\u001b[49m\u001b[43m)\u001b[49m\n\u001b[32m    115\u001b[39m source = \u001b[33m\"\u001b[39m\u001b[33m<bytes>\u001b[39m\u001b[33m\"\u001b[39m \u001b[38;5;28;01mif\u001b[39;00m \u001b[38;5;28misinstance\u001b[39m(uri, \u001b[38;5;28mbytes\u001b[39m) \u001b[38;5;28;01melse\u001b[39;00m uri\n\u001b[32m    117\u001b[39m \u001b[38;5;66;03m# fast-path based on plugin\u001b[39;00m\n\u001b[32m    118\u001b[39m \u001b[38;5;66;03m# (except in legacy mode)\u001b[39;00m\n",
      "\u001b[36mFile \u001b[39m\u001b[32m~/Documents/repos/OpenOpticalFlow_PIV_v1/.conda/lib/python3.11/site-packages/imageio/core/request.py:249\u001b[39m, in \u001b[36mRequest.__init__\u001b[39m\u001b[34m(self, uri, mode, extension, format_hint, **kwargs)\u001b[39m\n\u001b[32m    246\u001b[39m     \u001b[38;5;28;01mraise\u001b[39;00m \u001b[38;5;167;01mValueError\u001b[39;00m(\u001b[33mf\u001b[39m\u001b[33m\"\u001b[39m\u001b[33mInvalid Request.Mode: \u001b[39m\u001b[38;5;132;01m{\u001b[39;00mmode\u001b[38;5;132;01m}\u001b[39;00m\u001b[33m\"\u001b[39m)\n\u001b[32m    248\u001b[39m \u001b[38;5;66;03m# Parse what was given\u001b[39;00m\n\u001b[32m--> \u001b[39m\u001b[32m249\u001b[39m \u001b[38;5;28;43mself\u001b[39;49m\u001b[43m.\u001b[49m\u001b[43m_parse_uri\u001b[49m\u001b[43m(\u001b[49m\u001b[43muri\u001b[49m\u001b[43m)\u001b[49m\n\u001b[32m    251\u001b[39m \u001b[38;5;66;03m# Set extension\u001b[39;00m\n\u001b[32m    252\u001b[39m \u001b[38;5;28;01mif\u001b[39;00m extension \u001b[38;5;129;01mis\u001b[39;00m \u001b[38;5;129;01mnot\u001b[39;00m \u001b[38;5;28;01mNone\u001b[39;00m:\n",
      "\u001b[36mFile \u001b[39m\u001b[32m~/Documents/repos/OpenOpticalFlow_PIV_v1/.conda/lib/python3.11/site-packages/imageio/core/request.py:409\u001b[39m, in \u001b[36mRequest._parse_uri\u001b[39m\u001b[34m(self, uri)\u001b[39m\n\u001b[32m    406\u001b[39m \u001b[38;5;28;01mif\u001b[39;00m is_read_request:\n\u001b[32m    407\u001b[39m     \u001b[38;5;66;03m# Reading: check that the file exists (but is allowed a dir)\u001b[39;00m\n\u001b[32m    408\u001b[39m     \u001b[38;5;28;01mif\u001b[39;00m \u001b[38;5;129;01mnot\u001b[39;00m os.path.exists(fn):\n\u001b[32m--> \u001b[39m\u001b[32m409\u001b[39m         \u001b[38;5;28;01mraise\u001b[39;00m \u001b[38;5;167;01mFileNotFoundError\u001b[39;00m(\u001b[33m\"\u001b[39m\u001b[33mNo such file: \u001b[39m\u001b[33m'\u001b[39m\u001b[38;5;132;01m%s\u001b[39;00m\u001b[33m'\u001b[39m\u001b[33m\"\u001b[39m % fn)\n\u001b[32m    410\u001b[39m \u001b[38;5;28;01melse\u001b[39;00m:\n\u001b[32m    411\u001b[39m     \u001b[38;5;66;03m# Writing: check that the directory to write to does exist\u001b[39;00m\n\u001b[32m    412\u001b[39m     dn = os.path.dirname(fn)\n",
      "\u001b[31mFileNotFoundError\u001b[39m: No such file: '/home/user/Documents/repos/OpenOpticalFlow_PIV_v1/src/Data/Test von Karman/PIVlab_Karman_01.bmp'"
     ]
    }
   ],
   "source": [
    "# Load the images\n",
    "import imageio.v3 as io\n",
    "\n",
    "# Load the images\n",
    "image1 = io.imread(im1)\n",
    "image2 = io.imread(im2)\n",
    "\n",
    "# Run the PIV analysis\n",
    "piv_data = piv_analyze_image_pair(image1, image2, piv_data, piv_par)"
   ]
  },
  {
   "cell_type": "markdown",
   "metadata": {},
   "source": [
    "## Visualize results\n",
    "\n",
    "The variable piv_data contains now results of the PIV analysis. Use the piv_quiver function to show the velocity field. We will show a color background with velocity magnitude, overlaid by velocity vectors (_quiver plot_):"
   ]
  },
  {
   "cell_type": "code",
   "execution_count": null,
   "metadata": {},
   "outputs": [],
   "source": [
    "plt.figure(figsize=(10, 8))\n",
    "piv_quiver(piv_data, \n",
    "           background='Umag',        # show background with magnitude\n",
    "           quiver=True,              # show quiver vectors\n",
    "           quiver_color='k')         # show quiver vectors in black\n",
    "plt.title('Particle displacement (px) in a flow around a cylinder')\n",
    "plt.xlabel('position X (px)')\n",
    "plt.ylabel('position Y (px)')\n",
    "plt.colorbar(label='Velocity magnitude (px)')\n",
    "plt.show()"
   ]
  },
  {
   "cell_type": "markdown",
   "metadata": {},
   "source": [
    "Previous figure is too small. Show another figure, showing flow details around the cylinder:"
   ]
  },
  {
   "cell_type": "code",
   "execution_count": null,
   "metadata": {},
   "outputs": [],
   "source": [
    "plt.figure(figsize=(10, 8))\n",
    "piv_quiver(piv_data, \n",
    "           crop=[350, 850, 230, 530],  # set cropping\n",
    "           background='Umag',          # show background with magnitude\n",
    "           quiver=True,                # show quiver vectors\n",
    "           quiver_color='k')           # show quiver vectors in black\n",
    "plt.title('Particle displacement (px) in a flow around a cylinder (detail)')\n",
    "plt.xlabel('position X (px)')\n",
    "plt.ylabel('position Y (px)')\n",
    "plt.colorbar(label='Velocity magnitude (px)')\n",
    "plt.show()"
   ]
  },
  {
   "cell_type": "markdown",
   "metadata": {},
   "source": [
    "## Extract data\n",
    "\n",
    "Velocity field is stored in variable `piv_data` in the following fields:\n",
    "\n",
    "* `X` ... horizontal position of velocity vectors (in pixels from the left of the image)\n",
    "* `Y` ... vertical position of velocity vectors (in pixels from the top of the image)\n",
    "* `U` ... horizontal component of the velocity (particle displacement between the two images, in pixels, positive value pointing to the right)\n",
    "* `V` ... vertical component of the velocity (particle displacement between the two images, in pixels, positive value pointing downward).\n",
    "\n",
    "Interpolate the data to show a velocity profile. In this example, a profile of U component is shown for `X = 550`:"
   ]
  },
  {
   "cell_type": "code",
   "execution_count": null,
   "metadata": {},
   "outputs": [],
   "source": [
    "# Interpolate data for desired position\n",
    "from scipy.interpolate import griddata\n",
    "\n",
    "y = np.arange(230, 531)\n",
    "x = np.full_like(y, 550)\n",
    "\n",
    "# Prepare points for interpolation\n",
    "points = np.column_stack((piv_data['X'].flatten(), piv_data['Y'].flatten()))\n",
    "values = piv_data['U'].flatten()\n",
    "target_points = np.column_stack((x, y))\n",
    "\n",
    "# Interpolate\n",
    "u = griddata(points, values, target_points, method='linear')\n",
    "\n",
    "# Plot velocity profile\n",
    "plt.figure(figsize=(8, 6))\n",
    "plt.plot(u, y, '-b')\n",
    "plt.title('U profile at X = 550 px')\n",
    "plt.xlabel('particle displacement U (px)')\n",
    "plt.ylabel('position Y (px)')\n",
    "plt.grid(True)\n",
    "plt.show()"
   ]
  },
  {
   "cell_type": "markdown",
   "metadata": {},
   "source": [
    "Get a number of invalid velocity vectors."
   ]
  },
  {
   "cell_type": "code",
   "execution_count": null,
   "metadata": {},
   "outputs": [],
   "source": [
    "print(f\"Grid points: {piv_data['N']}. Masked vectors: {piv_data['maskedN']}. \"\n",
    "      f\"Spurious vectors: {piv_data['spuriousN']}. Computational time: {sum(piv_data['infCompTime'])}\")"
   ]
  }
 ],
 "metadata": {
  "kernelspec": {
   "display_name": "Python 3",
   "language": "python",
   "name": "python3"
  },
  "language_info": {
   "codemirror_mode": {
    "name": "ipython",
    "version": 3
   },
   "file_extension": ".py",
   "mimetype": "text/x-python",
   "name": "python",
   "nbconvert_exporter": "python",
   "pygments_lexer": "ipython3",
   "version": "3.11.11"
  }
 },
 "nbformat": 4,
 "nbformat_minor": 4
}
